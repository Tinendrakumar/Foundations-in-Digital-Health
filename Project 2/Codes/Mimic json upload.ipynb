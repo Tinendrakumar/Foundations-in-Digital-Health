{
 "cells": [
  {
   "cell_type": "code",
   "execution_count": 2,
   "id": "bc04a17b",
   "metadata": {},
   "outputs": [
    {
     "name": "stdout",
     "output_type": "stream",
     "text": [
      "Collecting pysolr\n",
      "  Using cached pysolr-3.9.0.tar.gz (55 kB)\n",
      "  Preparing metadata (setup.py): started\n",
      "  Preparing metadata (setup.py): finished with status 'done'\n",
      "Requirement already satisfied: requests>=2.9.1 in c:\\users\\tinendra kumar\\anaconda3\\lib\\site-packages (from pysolr) (2.28.1)\n",
      "Requirement already satisfied: urllib3<1.27,>=1.21.1 in c:\\users\\tinendra kumar\\anaconda3\\lib\\site-packages (from requests>=2.9.1->pysolr) (1.26.11)\n",
      "Requirement already satisfied: charset-normalizer<3,>=2 in c:\\users\\tinendra kumar\\anaconda3\\lib\\site-packages (from requests>=2.9.1->pysolr) (2.0.4)\n",
      "Requirement already satisfied: certifi>=2017.4.17 in c:\\users\\tinendra kumar\\anaconda3\\lib\\site-packages (from requests>=2.9.1->pysolr) (2022.9.14)\n",
      "Requirement already satisfied: idna<4,>=2.5 in c:\\users\\tinendra kumar\\anaconda3\\lib\\site-packages (from requests>=2.9.1->pysolr) (3.3)\n",
      "Building wheels for collected packages: pysolr\n",
      "  Building wheel for pysolr (setup.py): started\n",
      "  Building wheel for pysolr (setup.py): finished with status 'done'\n",
      "  Created wheel for pysolr: filename=pysolr-3.9.0-py2.py3-none-any.whl size=19675 sha256=6754f2f03ec0d4b1db81c0c51f5fd2caeaaec0c01dd544bdacda887b6b2e466b\n",
      "  Stored in directory: c:\\users\\tinendra kumar\\appdata\\local\\pip\\cache\\wheels\\8f\\e3\\bb\\f4c2a751045824a821ab25757e9762a66da88028d8f5f136ce\n",
      "Successfully built pysolr\n",
      "Installing collected packages: pysolr\n",
      "Successfully installed pysolr-3.9.0\n"
     ]
    }
   ],
   "source": [
    "!pip install pysolr"
   ]
  },
  {
   "cell_type": "code",
   "execution_count": 16,
   "id": "3cbcafef",
   "metadata": {},
   "outputs": [
    {
     "data": {
      "text/plain": [
       "'<?xml version=\"1.0\" encoding=\"UTF-8\"?>\\n<response>\\n\\n<lst name=\"responseHeader\">\\n  <int name=\"status\">0</int>\\n  <int name=\"QTime\">938</int>\\n</lst>\\n</response>\\n'"
      ]
     },
     "execution_count": 16,
     "metadata": {},
     "output_type": "execute_result"
    }
   ],
   "source": [
    "import json\n",
    "import pysolr\n",
    "import re\n",
    "# Connect to the Solr instance\n",
    "solr = pysolr.Solr('http://localhost:8983/solr/mimic3', timeout=10)\n",
    "\n",
    "# Load the JSON file\n",
    "with open('discharge_summary_notess(10k).json') as f:\n",
    "    data = json.load(f)\n",
    "\n",
    "# Index each document in the data dictionary\n",
    "for doc in data['docs']:\n",
    "    doc['icd9_codes'] = [re.sub(r'\\D', '', code) for code in doc['icd9_codes']]\n",
    "    solr.add(doc)\n",
    "# Commit the changes to the Solr index\n",
    "solr.commit()\n"
   ]
  },
  {
   "cell_type": "code",
   "execution_count": null,
   "id": "9a6db749",
   "metadata": {},
   "outputs": [],
   "source": []
  }
 ],
 "metadata": {
  "kernelspec": {
   "display_name": "Python 3 (ipykernel)",
   "language": "python",
   "name": "python3"
  },
  "language_info": {
   "codemirror_mode": {
    "name": "ipython",
    "version": 3
   },
   "file_extension": ".py",
   "mimetype": "text/x-python",
   "name": "python",
   "nbconvert_exporter": "python",
   "pygments_lexer": "ipython3",
   "version": "3.9.13"
  }
 },
 "nbformat": 4,
 "nbformat_minor": 5
}
